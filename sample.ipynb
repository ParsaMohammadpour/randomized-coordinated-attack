{
 "cells": [
  {
   "metadata": {
    "ExecuteTime": {
     "end_time": "2024-10-28T19:44:56.112103Z",
     "start_time": "2024-10-28T19:44:55.467202Z"
    }
   },
   "cell_type": "code",
   "source": [
    "import numpy as np\n",
    "import matplotlib.pyplot as plt\n",
    "import pandas as pd\n",
    "from random import randint"
   ],
   "id": "fbc121e30a2defb3",
   "outputs": [],
   "execution_count": 1
  },
  {
   "metadata": {},
   "cell_type": "code",
   "outputs": [],
   "execution_count": null,
   "source": [
    "class Process:\n",
    "    def __init__(self, uid: int, initial_val, process_count:int, key:int=None, default_decision_val=0):\n",
    "        \"\"\"\n",
    "        \n",
    "        :param uid: \n",
    "        :param initial_val: initial value of process (must be in decision)\n",
    "        :param process_count: number of all processes\n",
    "        :param key: the key that only the leader has it in the beginning\n",
    "        :param default_decision_val: default value of decision\n",
    "        \"\"\"\n",
    "        self.__uid = uid - 1\n",
    "        if initial_val not in default_decision_val:\n",
    "            raise ValueError('Initial value must be one of the decision type')\n",
    "        self.__initial_val = initial_val\n",
    "        self.__process_count = process_count\n",
    "        self.__decision = None\n",
    "        self.__key = key\n",
    "        self.__default_decision_val = default_decision_val\n",
    "        self.__initial_process_values()\n",
    "        self.__initial_info_levels()\n",
    "\n",
    "    def __initial_process_values(self):\n",
    "        self.__process_values = [None] * self.__process_count\n",
    "        self.__process_values[self.__uid] = self.__initial_val\n",
    "\n",
    "    def __initial_info_levels(self):\n",
    "        self.__info_levels = [-1] * self.__process_count\n",
    "        self.__info_levels[self.__uid] = 0\n",
    "\n",
    "    def __update_my_info_level(self):\n",
    "        self.__info_levels[self.__uid] = min(self.__info_levels) + 1\n",
    "\n",
    "    def __update_info_levels(self, info_levels: list[int]):\n",
    "        if not len(info_levels) == len(self.__info_levels):\n",
    "            raise ValueError(\n",
    "                f'information levels must have equal length. {len(self.__info_levels)} and {len(info_levels)} are not equal')\n",
    "        for i in range(len(info_levels)):\n",
    "            self.__info_levels[i] = min(info_levels[i], self.__info_levels[i])\n",
    "        self.__update_my_info_level()\n",
    "\n",
    "    def get_uid(self) -> int:\n",
    "        return self.__uid + 1\n",
    "\n",
    "    def get_initial_val(self) -> int:\n",
    "        return self.__initial_val\n",
    "    \n",
    "    def get_information_level(self) -> int:\n",
    "        return self.__info_levels[self.__uid]\n",
    "    \n",
    "    def get_final_decision(self):\n",
    "        if self.__key is None:\n",
    "            return self.__default_decision_val\n",
    "        if not self.get_information_level() >= self.__key:\n",
    "            return self.__default_decision_val\n",
    "        if len(set(self.__process_values)) > 1:\n",
    "            return self.__default_decision_val\n",
    "        return self.__decision\n",
    "    \n",
    "    def recieve_messages(self, messages:list, should_decide:bool=False):\n",
    "        pass"
   ],
   "id": "4892ea096e76992e"
  }
 ],
 "metadata": {
  "kernelspec": {
   "display_name": "Python 3",
   "language": "python",
   "name": "python3"
  },
  "language_info": {
   "codemirror_mode": {
    "name": "ipython",
    "version": 2
   },
   "file_extension": ".py",
   "mimetype": "text/x-python",
   "name": "python",
   "nbconvert_exporter": "python",
   "pygments_lexer": "ipython2",
   "version": "2.7.6"
  }
 },
 "nbformat": 4,
 "nbformat_minor": 5
}
